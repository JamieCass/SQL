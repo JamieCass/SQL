{
 "cells": [
  {
   "cell_type": "code",
   "execution_count": 43,
   "metadata": {},
   "outputs": [],
   "source": [
    "import snowflake.connector\n",
    "\n",
    "# Gets the version\n",
    "ctx = snowflake.connector.connect(\n",
    "    user='',\n",
    "    password='',\n",
    "    account=''\n",
    "    )\n",
    "cs = ctx.cursor()\n"
   ]
  },
  {
   "cell_type": "code",
   "execution_count": 44,
   "metadata": {},
   "outputs": [],
   "source": [
    "import pandas as pd"
   ]
  },
  {
   "cell_type": "code",
   "execution_count": 54,
   "metadata": {},
   "outputs": [],
   "source": [
    "query = '''\n",
    "SELECT user_id, \n",
    "       COUNT(*) as number_of_transactions_sports, \n",
    "       COUNT(DISTINCT TO_DATE(load_timestamp)) AS number_of_days_sports, \n",
    "       COUNT(DISTINCT GEO_DEVICE_HASH) AS number_of_geo_sports\n",
    "FROM \"TEST_DATA\".\"PUBLIC\".\"TEST_TABLE\"\n",
    "WHERE taxonomy_code = 'SPORTS_FAN' \n",
    "GROUP BY 1\n",
    ";'''\n",
    "\n",
    "query_output = cs.execute(query)"
   ]
  },
  {
   "cell_type": "code",
   "execution_count": 55,
   "metadata": {},
   "outputs": [],
   "source": [
    "df = pd.DataFrame(query_output, columns = ['user_id', 'number_transactions_sports', 'number_of_days_sports', 'number_of_geo_hash_sports'])\n"
   ]
  },
  {
   "cell_type": "code",
   "execution_count": 56,
   "metadata": {},
   "outputs": [
    {
     "data": {
      "text/html": [
       "<div>\n",
       "<style scoped>\n",
       "    .dataframe tbody tr th:only-of-type {\n",
       "        vertical-align: middle;\n",
       "    }\n",
       "\n",
       "    .dataframe tbody tr th {\n",
       "        vertical-align: top;\n",
       "    }\n",
       "\n",
       "    .dataframe thead th {\n",
       "        text-align: right;\n",
       "    }\n",
       "</style>\n",
       "<table border=\"1\" class=\"dataframe\">\n",
       "  <thead>\n",
       "    <tr style=\"text-align: right;\">\n",
       "      <th></th>\n",
       "      <th>user_id</th>\n",
       "      <th>number_transactions_sports</th>\n",
       "      <th>number_of_days_sports</th>\n",
       "      <th>number_of_geo_hash_sports</th>\n",
       "    </tr>\n",
       "  </thead>\n",
       "  <tbody>\n",
       "    <tr>\n",
       "      <th>0</th>\n",
       "      <td>-10874127871773704133</td>\n",
       "      <td>1</td>\n",
       "      <td>1</td>\n",
       "      <td>1</td>\n",
       "    </tr>\n",
       "    <tr>\n",
       "      <th>1</th>\n",
       "      <td>-7826610857493704748</td>\n",
       "      <td>1</td>\n",
       "      <td>1</td>\n",
       "      <td>1</td>\n",
       "    </tr>\n",
       "    <tr>\n",
       "      <th>2</th>\n",
       "      <td>12434852597562370356</td>\n",
       "      <td>2</td>\n",
       "      <td>2</td>\n",
       "      <td>1</td>\n",
       "    </tr>\n",
       "    <tr>\n",
       "      <th>3</th>\n",
       "      <td>21724286819583370440</td>\n",
       "      <td>1</td>\n",
       "      <td>1</td>\n",
       "      <td>1</td>\n",
       "    </tr>\n",
       "    <tr>\n",
       "      <th>4</th>\n",
       "      <td>-25898055991173703338</td>\n",
       "      <td>2</td>\n",
       "      <td>2</td>\n",
       "      <td>1</td>\n",
       "    </tr>\n",
       "    <tr>\n",
       "      <th>...</th>\n",
       "      <td>...</td>\n",
       "      <td>...</td>\n",
       "      <td>...</td>\n",
       "      <td>...</td>\n",
       "    </tr>\n",
       "    <tr>\n",
       "      <th>4646</th>\n",
       "      <td>-2728755476109370434</td>\n",
       "      <td>1</td>\n",
       "      <td>1</td>\n",
       "      <td>1</td>\n",
       "    </tr>\n",
       "    <tr>\n",
       "      <th>4647</th>\n",
       "      <td>-26021454111843702378</td>\n",
       "      <td>1</td>\n",
       "      <td>1</td>\n",
       "      <td>1</td>\n",
       "    </tr>\n",
       "    <tr>\n",
       "      <th>4648</th>\n",
       "      <td>23088807049287370467</td>\n",
       "      <td>1</td>\n",
       "      <td>1</td>\n",
       "      <td>1</td>\n",
       "    </tr>\n",
       "    <tr>\n",
       "      <th>4649</th>\n",
       "      <td>-27074824144953703674</td>\n",
       "      <td>1</td>\n",
       "      <td>1</td>\n",
       "      <td>1</td>\n",
       "    </tr>\n",
       "    <tr>\n",
       "      <th>4650</th>\n",
       "      <td>11095140004665370308</td>\n",
       "      <td>1</td>\n",
       "      <td>1</td>\n",
       "      <td>1</td>\n",
       "    </tr>\n",
       "  </tbody>\n",
       "</table>\n",
       "<p>4651 rows × 4 columns</p>\n",
       "</div>"
      ],
      "text/plain": [
       "                    user_id  number_transactions_sports  \\\n",
       "0     -10874127871773704133                           1   \n",
       "1      -7826610857493704748                           1   \n",
       "2      12434852597562370356                           2   \n",
       "3      21724286819583370440                           1   \n",
       "4     -25898055991173703338                           2   \n",
       "...                     ...                         ...   \n",
       "4646   -2728755476109370434                           1   \n",
       "4647  -26021454111843702378                           1   \n",
       "4648   23088807049287370467                           1   \n",
       "4649  -27074824144953703674                           1   \n",
       "4650   11095140004665370308                           1   \n",
       "\n",
       "      number_of_days_sports  number_of_geo_hash_sports  \n",
       "0                         1                          1  \n",
       "1                         1                          1  \n",
       "2                         2                          1  \n",
       "3                         1                          1  \n",
       "4                         2                          1  \n",
       "...                     ...                        ...  \n",
       "4646                      1                          1  \n",
       "4647                      1                          1  \n",
       "4648                      1                          1  \n",
       "4649                      1                          1  \n",
       "4650                      1                          1  \n",
       "\n",
       "[4651 rows x 4 columns]"
      ]
     },
     "execution_count": 56,
     "metadata": {},
     "output_type": "execute_result"
    }
   ],
   "source": [
    "df"
   ]
  },
  {
   "cell_type": "code",
   "execution_count": 57,
   "metadata": {},
   "outputs": [],
   "source": [
    "df.to_csv('sports.csv', index=False)"
   ]
  },
  {
   "cell_type": "code",
   "execution_count": null,
   "metadata": {},
   "outputs": [],
   "source": []
  }
 ],
 "metadata": {
  "kernelspec": {
   "display_name": "Python 3",
   "language": "python",
   "name": "python3"
  },
  "language_info": {
   "codemirror_mode": {
    "name": "ipython",
    "version": 3
   },
   "file_extension": ".py",
   "mimetype": "text/x-python",
   "name": "python",
   "nbconvert_exporter": "python",
   "pygments_lexer": "ipython3",
   "version": "3.8.6"
  }
 },
 "nbformat": 4,
 "nbformat_minor": 4
}
